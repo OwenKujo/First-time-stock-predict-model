{
  "nbformat": 4,
  "nbformat_minor": 0,
  "metadata": {
    "colab": {
      "provenance": [],
      "authorship_tag": "ABX9TyNSynzqVTNTcAny00w1tsdn",
      "include_colab_link": true
    },
    "kernelspec": {
      "name": "python3",
      "display_name": "Python 3"
    },
    "language_info": {
      "name": "python"
    }
  },
  "cells": [
    {
      "cell_type": "markdown",
      "metadata": {
        "id": "view-in-github",
        "colab_type": "text"
      },
      "source": [
        "<a href=\"https://colab.research.google.com/github/OwenKujo/First-time-stock-predict-model/blob/main/StockmarketPredictionProject.ipynb\" target=\"_parent\"><img src=\"https://colab.research.google.com/assets/colab-badge.svg\" alt=\"Open In Colab\"/></a>"
      ]
    },
    {
      "cell_type": "code",
      "execution_count": 110,
      "metadata": {
        "id": "elKCZ2W3nTQi",
        "colab": {
          "base_uri": "https://localhost:8080/"
        },
        "outputId": "e7f2a58a-8faa-4956-9bae-1463bec61905"
      },
      "outputs": [
        {
          "output_type": "stream",
          "name": "stdout",
          "text": [
            "Looking in indexes: https://pypi.org/simple, https://us-python.pkg.dev/colab-wheels/public/simple/\n",
            "Requirement already satisfied: yfinance in /usr/local/lib/python3.8/dist-packages (0.2.3)\n",
            "Requirement already satisfied: lxml>=4.9.1 in /usr/local/lib/python3.8/dist-packages (from yfinance) (4.9.2)\n",
            "Requirement already satisfied: numpy>=1.16.5 in /usr/local/lib/python3.8/dist-packages (from yfinance) (1.21.6)\n",
            "Requirement already satisfied: html5lib>=1.1 in /usr/local/lib/python3.8/dist-packages (from yfinance) (1.1)\n",
            "Requirement already satisfied: pandas>=1.3.0 in /usr/local/lib/python3.8/dist-packages (from yfinance) (1.3.5)\n",
            "Requirement already satisfied: requests>=2.26 in /usr/local/lib/python3.8/dist-packages (from yfinance) (2.28.1)\n",
            "Requirement already satisfied: appdirs>=1.4.4 in /usr/local/lib/python3.8/dist-packages (from yfinance) (1.4.4)\n",
            "Requirement already satisfied: pytz>=2022.5 in /usr/local/lib/python3.8/dist-packages (from yfinance) (2022.7)\n",
            "Requirement already satisfied: frozendict>=2.3.4 in /usr/local/lib/python3.8/dist-packages (from yfinance) (2.3.4)\n",
            "Requirement already satisfied: cryptography>=3.3.2 in /usr/local/lib/python3.8/dist-packages (from yfinance) (39.0.0)\n",
            "Requirement already satisfied: beautifulsoup4>=4.11.1 in /usr/local/lib/python3.8/dist-packages (from yfinance) (4.11.1)\n",
            "Requirement already satisfied: multitasking>=0.0.7 in /usr/local/lib/python3.8/dist-packages (from yfinance) (0.0.11)\n",
            "Requirement already satisfied: soupsieve>1.2 in /usr/local/lib/python3.8/dist-packages (from beautifulsoup4>=4.11.1->yfinance) (2.3.2.post1)\n",
            "Requirement already satisfied: cffi>=1.12 in /usr/local/lib/python3.8/dist-packages (from cryptography>=3.3.2->yfinance) (1.15.1)\n",
            "Requirement already satisfied: webencodings in /usr/local/lib/python3.8/dist-packages (from html5lib>=1.1->yfinance) (0.5.1)\n",
            "Requirement already satisfied: six>=1.9 in /usr/local/lib/python3.8/dist-packages (from html5lib>=1.1->yfinance) (1.15.0)\n",
            "Requirement already satisfied: python-dateutil>=2.7.3 in /usr/local/lib/python3.8/dist-packages (from pandas>=1.3.0->yfinance) (2.8.2)\n",
            "Requirement already satisfied: charset-normalizer<3,>=2 in /usr/local/lib/python3.8/dist-packages (from requests>=2.26->yfinance) (2.1.1)\n",
            "Requirement already satisfied: certifi>=2017.4.17 in /usr/local/lib/python3.8/dist-packages (from requests>=2.26->yfinance) (2022.12.7)\n",
            "Requirement already satisfied: idna<4,>=2.5 in /usr/local/lib/python3.8/dist-packages (from requests>=2.26->yfinance) (2.10)\n",
            "Requirement already satisfied: urllib3<1.27,>=1.21.1 in /usr/local/lib/python3.8/dist-packages (from requests>=2.26->yfinance) (1.24.3)\n",
            "Requirement already satisfied: pycparser in /usr/local/lib/python3.8/dist-packages (from cffi>=1.12->cryptography>=3.3.2->yfinance) (2.21)\n"
          ]
        }
      ],
      "source": [
        "!pip install yfinance\n",
        "import yfinance as yf\n",
        "import pandas as pd"
      ]
    },
    {
      "cell_type": "code",
      "source": [
        "sp500 = yf.Ticker(\"^GSPC\")\n",
        "sp500 = sp500.history(period=\"max\")\n",
        "sp500"
      ],
      "metadata": {
        "colab": {
          "base_uri": "https://localhost:8080/",
          "height": 455
        },
        "id": "iFu4-4l6U2W2",
        "outputId": "cc7be619-c45b-489f-d107-01acc70dfaa9"
      },
      "execution_count": 111,
      "outputs": [
        {
          "output_type": "execute_result",
          "data": {
            "text/plain": [
              "                                  Open         High          Low        Close  \\\n",
              "Date                                                                            \n",
              "1927-12-30 00:00:00-05:00    17.660000    17.660000    17.660000    17.660000   \n",
              "1928-01-03 00:00:00-05:00    17.760000    17.760000    17.760000    17.760000   \n",
              "1928-01-04 00:00:00-05:00    17.719999    17.719999    17.719999    17.719999   \n",
              "1928-01-05 00:00:00-05:00    17.549999    17.549999    17.549999    17.549999   \n",
              "1928-01-06 00:00:00-05:00    17.660000    17.660000    17.660000    17.660000   \n",
              "...                                ...          ...          ...          ...   \n",
              "2023-01-03 00:00:00-05:00  3853.290039  3878.459961  3794.330078  3824.139893   \n",
              "2023-01-04 00:00:00-05:00  3840.360107  3873.159912  3815.770020  3852.969971   \n",
              "2023-01-05 00:00:00-05:00  3839.739990  3839.739990  3802.419922  3808.100098   \n",
              "2023-01-06 00:00:00-05:00  3823.370117  3906.189941  3809.560059  3895.080078   \n",
              "2023-01-09 00:00:00-05:00  3910.820068  3950.570068  3890.419922  3892.090088   \n",
              "\n",
              "                               Volume  Dividends  Stock Splits  \n",
              "Date                                                            \n",
              "1927-12-30 00:00:00-05:00           0        0.0           0.0  \n",
              "1928-01-03 00:00:00-05:00           0        0.0           0.0  \n",
              "1928-01-04 00:00:00-05:00           0        0.0           0.0  \n",
              "1928-01-05 00:00:00-05:00           0        0.0           0.0  \n",
              "1928-01-06 00:00:00-05:00           0        0.0           0.0  \n",
              "...                               ...        ...           ...  \n",
              "2023-01-03 00:00:00-05:00  3959140000        0.0           0.0  \n",
              "2023-01-04 00:00:00-05:00  4414080000        0.0           0.0  \n",
              "2023-01-05 00:00:00-05:00  3893450000        0.0           0.0  \n",
              "2023-01-06 00:00:00-05:00  3923560000        0.0           0.0  \n",
              "2023-01-09 00:00:00-05:00  4311770000        0.0           0.0  \n",
              "\n",
              "[23870 rows x 7 columns]"
            ],
            "text/html": [
              "\n",
              "  <div id=\"df-39226317-1a1c-4c66-9167-3d6f0bc3021a\">\n",
              "    <div class=\"colab-df-container\">\n",
              "      <div>\n",
              "<style scoped>\n",
              "    .dataframe tbody tr th:only-of-type {\n",
              "        vertical-align: middle;\n",
              "    }\n",
              "\n",
              "    .dataframe tbody tr th {\n",
              "        vertical-align: top;\n",
              "    }\n",
              "\n",
              "    .dataframe thead th {\n",
              "        text-align: right;\n",
              "    }\n",
              "</style>\n",
              "<table border=\"1\" class=\"dataframe\">\n",
              "  <thead>\n",
              "    <tr style=\"text-align: right;\">\n",
              "      <th></th>\n",
              "      <th>Open</th>\n",
              "      <th>High</th>\n",
              "      <th>Low</th>\n",
              "      <th>Close</th>\n",
              "      <th>Volume</th>\n",
              "      <th>Dividends</th>\n",
              "      <th>Stock Splits</th>\n",
              "    </tr>\n",
              "    <tr>\n",
              "      <th>Date</th>\n",
              "      <th></th>\n",
              "      <th></th>\n",
              "      <th></th>\n",
              "      <th></th>\n",
              "      <th></th>\n",
              "      <th></th>\n",
              "      <th></th>\n",
              "    </tr>\n",
              "  </thead>\n",
              "  <tbody>\n",
              "    <tr>\n",
              "      <th>1927-12-30 00:00:00-05:00</th>\n",
              "      <td>17.660000</td>\n",
              "      <td>17.660000</td>\n",
              "      <td>17.660000</td>\n",
              "      <td>17.660000</td>\n",
              "      <td>0</td>\n",
              "      <td>0.0</td>\n",
              "      <td>0.0</td>\n",
              "    </tr>\n",
              "    <tr>\n",
              "      <th>1928-01-03 00:00:00-05:00</th>\n",
              "      <td>17.760000</td>\n",
              "      <td>17.760000</td>\n",
              "      <td>17.760000</td>\n",
              "      <td>17.760000</td>\n",
              "      <td>0</td>\n",
              "      <td>0.0</td>\n",
              "      <td>0.0</td>\n",
              "    </tr>\n",
              "    <tr>\n",
              "      <th>1928-01-04 00:00:00-05:00</th>\n",
              "      <td>17.719999</td>\n",
              "      <td>17.719999</td>\n",
              "      <td>17.719999</td>\n",
              "      <td>17.719999</td>\n",
              "      <td>0</td>\n",
              "      <td>0.0</td>\n",
              "      <td>0.0</td>\n",
              "    </tr>\n",
              "    <tr>\n",
              "      <th>1928-01-05 00:00:00-05:00</th>\n",
              "      <td>17.549999</td>\n",
              "      <td>17.549999</td>\n",
              "      <td>17.549999</td>\n",
              "      <td>17.549999</td>\n",
              "      <td>0</td>\n",
              "      <td>0.0</td>\n",
              "      <td>0.0</td>\n",
              "    </tr>\n",
              "    <tr>\n",
              "      <th>1928-01-06 00:00:00-05:00</th>\n",
              "      <td>17.660000</td>\n",
              "      <td>17.660000</td>\n",
              "      <td>17.660000</td>\n",
              "      <td>17.660000</td>\n",
              "      <td>0</td>\n",
              "      <td>0.0</td>\n",
              "      <td>0.0</td>\n",
              "    </tr>\n",
              "    <tr>\n",
              "      <th>...</th>\n",
              "      <td>...</td>\n",
              "      <td>...</td>\n",
              "      <td>...</td>\n",
              "      <td>...</td>\n",
              "      <td>...</td>\n",
              "      <td>...</td>\n",
              "      <td>...</td>\n",
              "    </tr>\n",
              "    <tr>\n",
              "      <th>2023-01-03 00:00:00-05:00</th>\n",
              "      <td>3853.290039</td>\n",
              "      <td>3878.459961</td>\n",
              "      <td>3794.330078</td>\n",
              "      <td>3824.139893</td>\n",
              "      <td>3959140000</td>\n",
              "      <td>0.0</td>\n",
              "      <td>0.0</td>\n",
              "    </tr>\n",
              "    <tr>\n",
              "      <th>2023-01-04 00:00:00-05:00</th>\n",
              "      <td>3840.360107</td>\n",
              "      <td>3873.159912</td>\n",
              "      <td>3815.770020</td>\n",
              "      <td>3852.969971</td>\n",
              "      <td>4414080000</td>\n",
              "      <td>0.0</td>\n",
              "      <td>0.0</td>\n",
              "    </tr>\n",
              "    <tr>\n",
              "      <th>2023-01-05 00:00:00-05:00</th>\n",
              "      <td>3839.739990</td>\n",
              "      <td>3839.739990</td>\n",
              "      <td>3802.419922</td>\n",
              "      <td>3808.100098</td>\n",
              "      <td>3893450000</td>\n",
              "      <td>0.0</td>\n",
              "      <td>0.0</td>\n",
              "    </tr>\n",
              "    <tr>\n",
              "      <th>2023-01-06 00:00:00-05:00</th>\n",
              "      <td>3823.370117</td>\n",
              "      <td>3906.189941</td>\n",
              "      <td>3809.560059</td>\n",
              "      <td>3895.080078</td>\n",
              "      <td>3923560000</td>\n",
              "      <td>0.0</td>\n",
              "      <td>0.0</td>\n",
              "    </tr>\n",
              "    <tr>\n",
              "      <th>2023-01-09 00:00:00-05:00</th>\n",
              "      <td>3910.820068</td>\n",
              "      <td>3950.570068</td>\n",
              "      <td>3890.419922</td>\n",
              "      <td>3892.090088</td>\n",
              "      <td>4311770000</td>\n",
              "      <td>0.0</td>\n",
              "      <td>0.0</td>\n",
              "    </tr>\n",
              "  </tbody>\n",
              "</table>\n",
              "<p>23870 rows × 7 columns</p>\n",
              "</div>\n",
              "      <button class=\"colab-df-convert\" onclick=\"convertToInteractive('df-39226317-1a1c-4c66-9167-3d6f0bc3021a')\"\n",
              "              title=\"Convert this dataframe to an interactive table.\"\n",
              "              style=\"display:none;\">\n",
              "        \n",
              "  <svg xmlns=\"http://www.w3.org/2000/svg\" height=\"24px\"viewBox=\"0 0 24 24\"\n",
              "       width=\"24px\">\n",
              "    <path d=\"M0 0h24v24H0V0z\" fill=\"none\"/>\n",
              "    <path d=\"M18.56 5.44l.94 2.06.94-2.06 2.06-.94-2.06-.94-.94-2.06-.94 2.06-2.06.94zm-11 1L8.5 8.5l.94-2.06 2.06-.94-2.06-.94L8.5 2.5l-.94 2.06-2.06.94zm10 10l.94 2.06.94-2.06 2.06-.94-2.06-.94-.94-2.06-.94 2.06-2.06.94z\"/><path d=\"M17.41 7.96l-1.37-1.37c-.4-.4-.92-.59-1.43-.59-.52 0-1.04.2-1.43.59L10.3 9.45l-7.72 7.72c-.78.78-.78 2.05 0 2.83L4 21.41c.39.39.9.59 1.41.59.51 0 1.02-.2 1.41-.59l7.78-7.78 2.81-2.81c.8-.78.8-2.07 0-2.86zM5.41 20L4 18.59l7.72-7.72 1.47 1.35L5.41 20z\"/>\n",
              "  </svg>\n",
              "      </button>\n",
              "      \n",
              "  <style>\n",
              "    .colab-df-container {\n",
              "      display:flex;\n",
              "      flex-wrap:wrap;\n",
              "      gap: 12px;\n",
              "    }\n",
              "\n",
              "    .colab-df-convert {\n",
              "      background-color: #E8F0FE;\n",
              "      border: none;\n",
              "      border-radius: 50%;\n",
              "      cursor: pointer;\n",
              "      display: none;\n",
              "      fill: #1967D2;\n",
              "      height: 32px;\n",
              "      padding: 0 0 0 0;\n",
              "      width: 32px;\n",
              "    }\n",
              "\n",
              "    .colab-df-convert:hover {\n",
              "      background-color: #E2EBFA;\n",
              "      box-shadow: 0px 1px 2px rgba(60, 64, 67, 0.3), 0px 1px 3px 1px rgba(60, 64, 67, 0.15);\n",
              "      fill: #174EA6;\n",
              "    }\n",
              "\n",
              "    [theme=dark] .colab-df-convert {\n",
              "      background-color: #3B4455;\n",
              "      fill: #D2E3FC;\n",
              "    }\n",
              "\n",
              "    [theme=dark] .colab-df-convert:hover {\n",
              "      background-color: #434B5C;\n",
              "      box-shadow: 0px 1px 3px 1px rgba(0, 0, 0, 0.15);\n",
              "      filter: drop-shadow(0px 1px 2px rgba(0, 0, 0, 0.3));\n",
              "      fill: #FFFFFF;\n",
              "    }\n",
              "  </style>\n",
              "\n",
              "      <script>\n",
              "        const buttonEl =\n",
              "          document.querySelector('#df-39226317-1a1c-4c66-9167-3d6f0bc3021a button.colab-df-convert');\n",
              "        buttonEl.style.display =\n",
              "          google.colab.kernel.accessAllowed ? 'block' : 'none';\n",
              "\n",
              "        async function convertToInteractive(key) {\n",
              "          const element = document.querySelector('#df-39226317-1a1c-4c66-9167-3d6f0bc3021a');\n",
              "          const dataTable =\n",
              "            await google.colab.kernel.invokeFunction('convertToInteractive',\n",
              "                                                     [key], {});\n",
              "          if (!dataTable) return;\n",
              "\n",
              "          const docLinkHtml = 'Like what you see? Visit the ' +\n",
              "            '<a target=\"_blank\" href=https://colab.research.google.com/notebooks/data_table.ipynb>data table notebook</a>'\n",
              "            + ' to learn more about interactive tables.';\n",
              "          element.innerHTML = '';\n",
              "          dataTable['output_type'] = 'display_data';\n",
              "          await google.colab.output.renderOutput(dataTable, element);\n",
              "          const docLink = document.createElement('div');\n",
              "          docLink.innerHTML = docLinkHtml;\n",
              "          element.appendChild(docLink);\n",
              "        }\n",
              "      </script>\n",
              "    </div>\n",
              "  </div>\n",
              "  "
            ]
          },
          "metadata": {},
          "execution_count": 111
        }
      ]
    },
    {
      "cell_type": "code",
      "source": [
        "sp500.index"
      ],
      "metadata": {
        "colab": {
          "base_uri": "https://localhost:8080/"
        },
        "id": "LSAJnnNPd_VH",
        "outputId": "99bda141-7901-4332-d03d-9ba13b94f8b9"
      },
      "execution_count": 112,
      "outputs": [
        {
          "output_type": "execute_result",
          "data": {
            "text/plain": [
              "DatetimeIndex(['1927-12-30 00:00:00-05:00', '1928-01-03 00:00:00-05:00',\n",
              "               '1928-01-04 00:00:00-05:00', '1928-01-05 00:00:00-05:00',\n",
              "               '1928-01-06 00:00:00-05:00', '1928-01-09 00:00:00-05:00',\n",
              "               '1928-01-10 00:00:00-05:00', '1928-01-11 00:00:00-05:00',\n",
              "               '1928-01-12 00:00:00-05:00', '1928-01-13 00:00:00-05:00',\n",
              "               ...\n",
              "               '2022-12-23 00:00:00-05:00', '2022-12-27 00:00:00-05:00',\n",
              "               '2022-12-28 00:00:00-05:00', '2022-12-29 00:00:00-05:00',\n",
              "               '2022-12-30 00:00:00-05:00', '2023-01-03 00:00:00-05:00',\n",
              "               '2023-01-04 00:00:00-05:00', '2023-01-05 00:00:00-05:00',\n",
              "               '2023-01-06 00:00:00-05:00', '2023-01-09 00:00:00-05:00'],\n",
              "              dtype='datetime64[ns, America/New_York]', name='Date', length=23870, freq=None)"
            ]
          },
          "metadata": {},
          "execution_count": 112
        }
      ]
    },
    {
      "cell_type": "code",
      "source": [
        "sp500.plot.line(y=\"Close\", use_index=True)"
      ],
      "metadata": {
        "colab": {
          "base_uri": "https://localhost:8080/",
          "height": 296
        },
        "id": "X3PsOqioeEXH",
        "outputId": "5f3b632c-fb90-4f73-ba01-1a1785a57802"
      },
      "execution_count": 113,
      "outputs": [
        {
          "output_type": "execute_result",
          "data": {
            "text/plain": [
              "<matplotlib.axes._subplots.AxesSubplot at 0x7f97022eb6a0>"
            ]
          },
          "metadata": {},
          "execution_count": 113
        },
        {
          "output_type": "display_data",
          "data": {
            "text/plain": [
              "<Figure size 432x288 with 1 Axes>"
            ],
            "image/png": "[encoded data removed]"
          },
          "metadata": {}
        }
      ]
    },
    {
      "cell_type": "code",
      "source": [
        "del sp500[\"Dividends\"]\n",
        "del sp500[\"Stock Splits\"]"
      ],
      "metadata": {
        "id": "w9LVhG7deSWu"
      },
      "execution_count": 114,
      "outputs": []
    },
    {
      "cell_type": "code",
      "source": [
        "#make tomorrow column\n",
        "sp500[\"Tomorrow\"] = sp500[\"Close\"].shift(-1)\n",
        "sp500"
      ],
      "metadata": {
        "colab": {
          "base_uri": "https://localhost:8080/",
          "height": 455
        },
        "id": "v_F82kEeoqIb",
        "outputId": "d81c48c1-b7ba-4fa0-f491-8d1d0b560fbf"
      },
      "execution_count": 115,
      "outputs": [
        {
          "output_type": "execute_result",
          "data": {
            "text/plain": [
              "                                  Open         High          Low        Close  \\\n",
              "Date                                                                            \n",
              "1927-12-30 00:00:00-05:00    17.660000    17.660000    17.660000    17.660000   \n",
              "1928-01-03 00:00:00-05:00    17.760000    17.760000    17.760000    17.760000   \n",
              "1928-01-04 00:00:00-05:00    17.719999    17.719999    17.719999    17.719999   \n",
              "1928-01-05 00:00:00-05:00    17.549999    17.549999    17.549999    17.549999   \n",
              "1928-01-06 00:00:00-05:00    17.660000    17.660000    17.660000    17.660000   \n",
              "...                                ...          ...          ...          ...   \n",
              "2023-01-03 00:00:00-05:00  3853.290039  3878.459961  3794.330078  3824.139893   \n",
              "2023-01-04 00:00:00-05:00  3840.360107  3873.159912  3815.770020  3852.969971   \n",
              "2023-01-05 00:00:00-05:00  3839.739990  3839.739990  3802.419922  3808.100098   \n",
              "2023-01-06 00:00:00-05:00  3823.370117  3906.189941  3809.560059  3895.080078   \n",
              "2023-01-09 00:00:00-05:00  3910.820068  3950.570068  3890.419922  3892.090088   \n",
              "\n",
              "                               Volume     Tomorrow  \n",
              "Date                                                \n",
              "1927-12-30 00:00:00-05:00           0    17.760000  \n",
              "1928-01-03 00:00:00-05:00           0    17.719999  \n",
              "1928-01-04 00:00:00-05:00           0    17.549999  \n",
              "1928-01-05 00:00:00-05:00           0    17.660000  \n",
              "1928-01-06 00:00:00-05:00           0    17.500000  \n",
              "...                               ...          ...  \n",
              "2023-01-03 00:00:00-05:00  3959140000  3852.969971  \n",
              "2023-01-04 00:00:00-05:00  4414080000  3808.100098  \n",
              "2023-01-05 00:00:00-05:00  3893450000  3895.080078  \n",
              "2023-01-06 00:00:00-05:00  3923560000  3892.090088  \n",
              "2023-01-09 00:00:00-05:00  4311770000          NaN  \n",
              "\n",
              "[23870 rows x 6 columns]"
            ],
            "text/html": [
              "\n",
              "  <div id=\"df-de999265-1a70-4d82-968f-ae97fd880014\">\n",
              "    <div class=\"colab-df-container\">\n",
              "      <div>\n",
              "<style scoped>\n",
              "    .dataframe tbody tr th:only-of-type {\n",
              "        vertical-align: middle;\n",
              "    }\n",
              "\n",
              "    .dataframe tbody tr th {\n",
              "        vertical-align: top;\n",
              "    }\n",
              "\n",
              "    .dataframe thead th {\n",
              "        text-align: right;\n",
              "    }\n",
              "</style>\n",
              "<table border=\"1\" class=\"dataframe\">\n",
              "  <thead>\n",
              "    <tr style=\"text-align: right;\">\n",
              "      <th></th>\n",
              "      <th>Open</th>\n",
              "      <th>High</th>\n",
              "      <th>Low</th>\n",
              "      <th>Close</th>\n",
              "      <th>Volume</th>\n",
              "      <th>Tomorrow</th>\n",
              "    </tr>\n",
              "    <tr>\n",
              "      <th>Date</th>\n",
              "      <th></th>\n",
              "      <th></th>\n",
              "      <th></th>\n",
              "      <th></th>\n",
              "      <th></th>\n",
              "      <th></th>\n",
              "    </tr>\n",
              "  </thead>\n",
              "  <tbody>\n",
              "    <tr>\n",
              "      <th>1927-12-30 00:00:00-05:00</th>\n",
              "      <td>17.660000</td>\n",
              "      <td>17.660000</td>\n",
              "      <td>17.660000</td>\n",
              "      <td>17.660000</td>\n",
              "      <td>0</td>\n",
              "      <td>17.760000</td>\n",
              "    </tr>\n",
              "    <tr>\n",
              "      <th>1928-01-03 00:00:00-05:00</th>\n",
              "      <td>17.760000</td>\n",
              "      <td>17.760000</td>\n",
              "      <td>17.760000</td>\n",
              "      <td>17.760000</td>\n",
              "      <td>0</td>\n",
              "      <td>17.719999</td>\n",
              "    </tr>\n",
              "    <tr>\n",
              "      <th>1928-01-04 00:00:00-05:00</th>\n",
              "      <td>17.719999</td>\n",
              "      <td>17.719999</td>\n",
              "      <td>17.719999</td>\n",
              "      <td>17.719999</td>\n",
              "      <td>0</td>\n",
              "      <td>17.549999</td>\n",
              "    </tr>\n",
              "    <tr>\n",
              "      <th>1928-01-05 00:00:00-05:00</th>\n",
              "      <td>17.549999</td>\n",
              "      <td>17.549999</td>\n",
              "      <td>17.549999</td>\n",
              "      <td>17.549999</td>\n",
              "      <td>0</td>\n",
              "      <td>17.660000</td>\n",
              "    </tr>\n",
              "    <tr>\n",
              "      <th>1928-01-06 00:00:00-05:00</th>\n",
              "      <td>17.660000</td>\n",
              "      <td>17.660000</td>\n",
              "      <td>17.660000</td>\n",
              "      <td>17.660000</td>\n",
              "      <td>0</td>\n",
              "      <td>17.500000</td>\n",
              "    </tr>\n",
              "    <tr>\n",
              "      <th>...</th>\n",
              "      <td>...</td>\n",
              "      <td>...</td>\n",
              "      <td>...</td>\n",
              "      <td>...</td>\n",
              "      <td>...</td>\n",
              "      <td>...</td>\n",
              "    </tr>\n",
              "    <tr>\n",
              "      <th>2023-01-03 00:00:00-05:00</th>\n",
              "      <td>3853.290039</td>\n",
              "      <td>3878.459961</td>\n",
              "      <td>3794.330078</td>\n",
              "      <td>3824.139893</td>\n",
              "      <td>3959140000</td>\n",
              "      <td>3852.969971</td>\n",
              "    </tr>\n",
              "    <tr>\n",
              "      <th>2023-01-04 00:00:00-05:00</th>\n",
              "      <td>3840.360107</td>\n",
              "      <td>3873.159912</td>\n",
              "      <td>3815.770020</td>\n",
              "      <td>3852.969971</td>\n",
              "      <td>4414080000</td>\n",
              "      <td>3808.100098</td>\n",
              "    </tr>\n",
              "    <tr>\n",
              "      <th>2023-01-05 00:00:00-05:00</th>\n",
              "      <td>3839.739990</td>\n",
              "      <td>3839.739990</td>\n",
              "      <td>3802.419922</td>\n",
              "      <td>3808.100098</td>\n",
              "      <td>3893450000</td>\n",
              "      <td>3895.080078</td>\n",
              "    </tr>\n",
              "    <tr>\n",
              "      <th>2023-01-06 00:00:00-05:00</th>\n",
              "      <td>3823.370117</td>\n",
              "      <td>3906.189941</td>\n",
              "      <td>3809.560059</td>\n",
              "      <td>3895.080078</td>\n",
              "      <td>3923560000</td>\n",
              "      <td>3892.090088</td>\n",
              "    </tr>\n",
              "    <tr>\n",
              "      <th>2023-01-09 00:00:00-05:00</th>\n",
              "      <td>3910.820068</td>\n",
              "      <td>3950.570068</td>\n",
              "      <td>3890.419922</td>\n",
              "      <td>3892.090088</td>\n",
              "      <td>4311770000</td>\n",
              "      <td>NaN</td>\n",
              "    </tr>\n",
              "  </tbody>\n",
              "</table>\n",
              "<p>23870 rows × 6 columns</p>\n",
              "</div>\n",
              "      <button class=\"colab-df-convert\" onclick=\"convertToInteractive('df-de999265-1a70-4d82-968f-ae97fd880014')\"\n",
              "              title=\"Convert this dataframe to an interactive table.\"\n",
              "              style=\"display:none;\">\n",
              "        \n",
              "  <svg xmlns=\"http://www.w3.org/2000/svg\" height=\"24px\"viewBox=\"0 0 24 24\"\n",
              "       width=\"24px\">\n",
              "    <path d=\"M0 0h24v24H0V0z\" fill=\"none\"/>\n",
              "    <path d=\"M18.56 5.44l.94 2.06.94-2.06 2.06-.94-2.06-.94-.94-2.06-.94 2.06-2.06.94zm-11 1L8.5 8.5l.94-2.06 2.06-.94-2.06-.94L8.5 2.5l-.94 2.06-2.06.94zm10 10l.94 2.06.94-2.06 2.06-.94-2.06-.94-.94-2.06-.94 2.06-2.06.94z\"/><path d=\"M17.41 7.96l-1.37-1.37c-.4-.4-.92-.59-1.43-.59-.52 0-1.04.2-1.43.59L10.3 9.45l-7.72 7.72c-.78.78-.78 2.05 0 2.83L4 21.41c.39.39.9.59 1.41.59.51 0 1.02-.2 1.41-.59l7.78-7.78 2.81-2.81c.8-.78.8-2.07 0-2.86zM5.41 20L4 18.59l7.72-7.72 1.47 1.35L5.41 20z\"/>\n",
              "  </svg>\n",
              "      </button>\n",
              "      \n",
              "  <style>\n",
              "    .colab-df-container {\n",
              "      display:flex;\n",
              "      flex-wrap:wrap;\n",
              "      gap: 12px;\n",
              "    }\n",
              "\n",
              "    .colab-df-convert {\n",
              "      background-color: #E8F0FE;\n",
              "      border: none;\n",
              "      border-radius: 50%;\n",
              "      cursor: pointer;\n",
              "      display: none;\n",
              "      fill: #1967D2;\n",
              "      height: 32px;\n",
              "      padding: 0 0 0 0;\n",
              "      width: 32px;\n",
              "    }\n",
              "\n",
              "    .colab-df-convert:hover {\n",
              "      background-color: #E2EBFA;\n",
              "      box-shadow: 0px 1px 2px rgba(60, 64, 67, 0.3), 0px 1px 3px 1px rgba(60, 64, 67, 0.15);\n",
              "      fill: #174EA6;\n",
              "    }\n",
              "\n",
              "    [theme=dark] .colab-df-convert {\n",
              "      background-color: #3B4455;\n",
              "      fill: #D2E3FC;\n",
              "    }\n",
              "\n",
              "    [theme=dark] .colab-df-convert:hover {\n",
              "      background-color: #434B5C;\n",
              "      box-shadow: 0px 1px 3px 1px rgba(0, 0, 0, 0.15);\n",
              "      filter: drop-shadow(0px 1px 2px rgba(0, 0, 0, 0.3));\n",
              "      fill: #FFFFFF;\n",
              "    }\n",
              "  </style>\n",
              "\n",
              "      <script>\n",
              "        const buttonEl =\n",
              "          document.querySelector('#df-de999265-1a70-4d82-968f-ae97fd880014 button.colab-df-convert');\n",
              "        buttonEl.style.display =\n",
              "          google.colab.kernel.accessAllowed ? 'block' : 'none';\n",
              "\n",
              "        async function convertToInteractive(key) {\n",
              "          const element = document.querySelector('#df-de999265-1a70-4d82-968f-ae97fd880014');\n",
              "          const dataTable =\n",
              "            await google.colab.kernel.invokeFunction('convertToInteractive',\n",
              "                                                     [key], {});\n",
              "          if (!dataTable) return;\n",
              "\n",
              "          const docLinkHtml = 'Like what you see? Visit the ' +\n",
              "            '<a target=\"_blank\" href=https://colab.research.google.com/notebooks/data_table.ipynb>data table notebook</a>'\n",
              "            + ' to learn more about interactive tables.';\n",
              "          element.innerHTML = '';\n",
              "          dataTable['output_type'] = 'display_data';\n",
              "          await google.colab.output.renderOutput(dataTable, element);\n",
              "          const docLink = document.createElement('div');\n",
              "          docLink.innerHTML = docLinkHtml;\n",
              "          element.appendChild(docLink);\n",
              "        }\n",
              "      </script>\n",
              "    </div>\n",
              "  </div>\n",
              "  "
            ]
          },
          "metadata": {},
          "execution_count": 115
        }
      ]
    },
    {
      "cell_type": "code",
      "source": [
        "#target for ML\n",
        "sp500[\"Target\"] = (sp500[\"Tomorrow\"] > sp500[\"Close\"]).astype(int)\n",
        "sp500"
      ],
      "metadata": {
        "colab": {
          "base_uri": "https://localhost:8080/",
          "height": 455
        },
        "id": "ahzrPBWmpX-B",
        "outputId": "e8cc7577-8940-4ec3-9ab0-5437746a3b69"
      },
      "execution_count": 116,
      "outputs": [
        {
          "output_type": "execute_result",
          "data": {
            "text/plain": [
              "                                  Open         High          Low        Close  \\\n",
              "Date                                                                            \n",
              "1927-12-30 00:00:00-05:00    17.660000    17.660000    17.660000    17.660000   \n",
              "1928-01-03 00:00:00-05:00    17.760000    17.760000    17.760000    17.760000   \n",
              "1928-01-04 00:00:00-05:00    17.719999    17.719999    17.719999    17.719999   \n",
              "1928-01-05 00:00:00-05:00    17.549999    17.549999    17.549999    17.549999   \n",
              "1928-01-06 00:00:00-05:00    17.660000    17.660000    17.660000    17.660000   \n",
              "...                                ...          ...          ...          ...   \n",
              "2023-01-03 00:00:00-05:00  3853.290039  3878.459961  3794.330078  3824.139893   \n",
              "2023-01-04 00:00:00-05:00  3840.360107  3873.159912  3815.770020  3852.969971   \n",
              "2023-01-05 00:00:00-05:00  3839.739990  3839.739990  3802.419922  3808.100098   \n",
              "2023-01-06 00:00:00-05:00  3823.370117  3906.189941  3809.560059  3895.080078   \n",
              "2023-01-09 00:00:00-05:00  3910.820068  3950.570068  3890.419922  3892.090088   \n",
              "\n",
              "                               Volume     Tomorrow  Target  \n",
              "Date                                                        \n",
              "1927-12-30 00:00:00-05:00           0    17.760000       1  \n",
              "1928-01-03 00:00:00-05:00           0    17.719999       0  \n",
              "1928-01-04 00:00:00-05:00           0    17.549999       0  \n",
              "1928-01-05 00:00:00-05:00           0    17.660000       1  \n",
              "1928-01-06 00:00:00-05:00           0    17.500000       0  \n",
              "...                               ...          ...     ...  \n",
              "2023-01-03 00:00:00-05:00  3959140000  3852.969971       1  \n",
              "2023-01-04 00:00:00-05:00  4414080000  3808.100098       0  \n",
              "2023-01-05 00:00:00-05:00  3893450000  3895.080078       1  \n",
              "2023-01-06 00:00:00-05:00  3923560000  3892.090088       0  \n",
              "2023-01-09 00:00:00-05:00  4311770000          NaN       0  \n",
              "\n",
              "[23870 rows x 7 columns]"
            ],
            "text/html": [
              "\n",
              "  <div id=\"df-c3b809d7-e4db-4127-a700-c4abad9bdebd\">\n",
              "    <div class=\"colab-df-container\">\n",
              "      <div>\n",
              "<style scoped>\n",
              "    .dataframe tbody tr th:only-of-type {\n",
              "        vertical-align: middle;\n",
              "    }\n",
              "\n",
              "    .dataframe tbody tr th {\n",
              "        vertical-align: top;\n",
              "    }\n",
              "\n",
              "    .dataframe thead th {\n",
              "        text-align: right;\n",
              "    }\n",
              "</style>\n",
              "<table border=\"1\" class=\"dataframe\">\n",
              "  <thead>\n",
              "    <tr style=\"text-align: right;\">\n",
              "      <th></th>\n",
              "      <th>Open</th>\n",
              "      <th>High</th>\n",
              "      <th>Low</th>\n",
              "      <th>Close</th>\n",
              "      <th>Volume</th>\n",
              "      <th>Tomorrow</th>\n",
              "      <th>Target</th>\n",
              "    </tr>\n",
              "    <tr>\n",
              "      <th>Date</th>\n",
              "      <th></th>\n",
              "      <th></th>\n",
              "      <th></th>\n",
              "      <th></th>\n",
              "      <th></th>\n",
              "      <th></th>\n",
              "      <th></th>\n",
              "    </tr>\n",
              "  </thead>\n",
              "  <tbody>\n",
              "    <tr>\n",
              "      <th>1927-12-30 00:00:00-05:00</th>\n",
              "      <td>17.660000</td>\n",
              "      <td>17.660000</td>\n",
              "      <td>17.660000</td>\n",
              "      <td>17.660000</td>\n",
              "      <td>0</td>\n",
              "      <td>17.760000</td>\n",
              "      <td>1</td>\n",
              "    </tr>\n",
              "    <tr>\n",
              "      <th>1928-01-03 00:00:00-05:00</th>\n",
              "      <td>17.760000</td>\n",
              "      <td>17.760000</td>\n",
              "      <td>17.760000</td>\n",
              "      <td>17.760000</td>\n",
              "      <td>0</td>\n",
              "      <td>17.719999</td>\n",
              "      <td>0</td>\n",
              "    </tr>\n",
              "    <tr>\n",
              "      <th>1928-01-04 00:00:00-05:00</th>\n",
              "      <td>17.719999</td>\n",
              "      <td>17.719999</td>\n",
              "      <td>17.719999</td>\n",
              "      <td>17.719999</td>\n",
              "      <td>0</td>\n",
              "      <td>17.549999</td>\n",
              "      <td>0</td>\n",
              "    </tr>\n",
              "    <tr>\n",
              "      <th>1928-01-05 00:00:00-05:00</th>\n",
              "      <td>17.549999</td>\n",
              "      <td>17.549999</td>\n",
              "      <td>17.549999</td>\n",
              "      <td>17.549999</td>\n",
              "      <td>0</td>\n",
              "      <td>17.660000</td>\n",
              "      <td>1</td>\n",
              "    </tr>\n",
              "    <tr>\n",
              "      <th>1928-01-06 00:00:00-05:00</th>\n",
              "      <td>17.660000</td>\n",
              "      <td>17.660000</td>\n",
              "      <td>17.660000</td>\n",
              "      <td>17.660000</td>\n",
              "      <td>0</td>\n",
              "      <td>17.500000</td>\n",
              "      <td>0</td>\n",
              "    </tr>\n",
              "    <tr>\n",
              "      <th>...</th>\n",
              "      <td>...</td>\n",
              "      <td>...</td>\n",
              "      <td>...</td>\n",
              "      <td>...</td>\n",
              "      <td>...</td>\n",
              "      <td>...</td>\n",
              "      <td>...</td>\n",
              "    </tr>\n",
              "    <tr>\n",
              "      <th>2023-01-03 00:00:00-05:00</th>\n",
              "      <td>3853.290039</td>\n",
              "      <td>3878.459961</td>\n",
              "      <td>3794.330078</td>\n",
              "      <td>3824.139893</td>\n",
              "      <td>3959140000</td>\n",
              "      <td>3852.969971</td>\n",
              "      <td>1</td>\n",
              "    </tr>\n",
              "    <tr>\n",
              "      <th>2023-01-04 00:00:00-05:00</th>\n",
              "      <td>3840.360107</td>\n",
              "      <td>3873.159912</td>\n",
              "      <td>3815.770020</td>\n",
              "      <td>3852.969971</td>\n",
              "      <td>4414080000</td>\n",
              "      <td>3808.100098</td>\n",
              "      <td>0</td>\n",
              "    </tr>\n",
              "    <tr>\n",
              "      <th>2023-01-05 00:00:00-05:00</th>\n",
              "      <td>3839.739990</td>\n",
              "      <td>3839.739990</td>\n",
              "      <td>3802.419922</td>\n",
              "      <td>3808.100098</td>\n",
              "      <td>3893450000</td>\n",
              "      <td>3895.080078</td>\n",
              "      <td>1</td>\n",
              "    </tr>\n",
              "    <tr>\n",
              "      <th>2023-01-06 00:00:00-05:00</th>\n",
              "      <td>3823.370117</td>\n",
              "      <td>3906.189941</td>\n",
              "      <td>3809.560059</td>\n",
              "      <td>3895.080078</td>\n",
              "      <td>3923560000</td>\n",
              "      <td>3892.090088</td>\n",
              "      <td>0</td>\n",
              "    </tr>\n",
              "    <tr>\n",
              "      <th>2023-01-09 00:00:00-05:00</th>\n",
              "      <td>3910.820068</td>\n",
              "      <td>3950.570068</td>\n",
              "      <td>3890.419922</td>\n",
              "      <td>3892.090088</td>\n",
              "      <td>4311770000</td>\n",
              "      <td>NaN</td>\n",
              "      <td>0</td>\n",
              "    </tr>\n",
              "  </tbody>\n",
              "</table>\n",
              "<p>23870 rows × 7 columns</p>\n",
              "</div>\n",
              "      <button class=\"colab-df-convert\" onclick=\"convertToInteractive('df-c3b809d7-e4db-4127-a700-c4abad9bdebd')\"\n",
              "              title=\"Convert this dataframe to an interactive table.\"\n",
              "              style=\"display:none;\">\n",
              "        \n",
              "  <svg xmlns=\"http://www.w3.org/2000/svg\" height=\"24px\"viewBox=\"0 0 24 24\"\n",
              "       width=\"24px\">\n",
              "    <path d=\"M0 0h24v24H0V0z\" fill=\"none\"/>\n",
              "    <path d=\"M18.56 5.44l.94 2.06.94-2.06 2.06-.94-2.06-.94-.94-2.06-.94 2.06-2.06.94zm-11 1L8.5 8.5l.94-2.06 2.06-.94-2.06-.94L8.5 2.5l-.94 2.06-2.06.94zm10 10l.94 2.06.94-2.06 2.06-.94-2.06-.94-.94-2.06-.94 2.06-2.06.94z\"/><path d=\"M17.41 7.96l-1.37-1.37c-.4-.4-.92-.59-1.43-.59-.52 0-1.04.2-1.43.59L10.3 9.45l-7.72 7.72c-.78.78-.78 2.05 0 2.83L4 21.41c.39.39.9.59 1.41.59.51 0 1.02-.2 1.41-.59l7.78-7.78 2.81-2.81c.8-.78.8-2.07 0-2.86zM5.41 20L4 18.59l7.72-7.72 1.47 1.35L5.41 20z\"/>\n",
              "  </svg>\n",
              "      </button>\n",
              "      \n",
              "  <style>\n",
              "    .colab-df-container {\n",
              "      display:flex;\n",
              "      flex-wrap:wrap;\n",
              "      gap: 12px;\n",
              "    }\n",
              "\n",
              "    .colab-df-convert {\n",
              "      background-color: #E8F0FE;\n",
              "      border: none;\n",
              "      border-radius: 50%;\n",
              "      cursor: pointer;\n",
              "      display: none;\n",
              "      fill: #1967D2;\n",
              "      height: 32px;\n",
              "      padding: 0 0 0 0;\n",
              "      width: 32px;\n",
              "    }\n",
              "\n",
              "    .colab-df-convert:hover {\n",
              "      background-color: #E2EBFA;\n",
              "      box-shadow: 0px 1px 2px rgba(60, 64, 67, 0.3), 0px 1px 3px 1px rgba(60, 64, 67, 0.15);\n",
              "      fill: #174EA6;\n",
              "    }\n",
              "\n",
              "    [theme=dark] .colab-df-convert {\n",
              "      background-color: #3B4455;\n",
              "      fill: #D2E3FC;\n",
              "    }\n",
              "\n",
              "    [theme=dark] .colab-df-convert:hover {\n",
              "      background-color: #434B5C;\n",
              "      box-shadow: 0px 1px 3px 1px rgba(0, 0, 0, 0.15);\n",
              "      filter: drop-shadow(0px 1px 2px rgba(0, 0, 0, 0.3));\n",
              "      fill: #FFFFFF;\n",
              "    }\n",
              "  </style>\n",
              "\n",
              "      <script>\n",
              "        const buttonEl =\n",
              "          document.querySelector('#df-c3b809d7-e4db-4127-a700-c4abad9bdebd button.colab-df-convert');\n",
              "        buttonEl.style.display =\n",
              "          google.colab.kernel.accessAllowed ? 'block' : 'none';\n",
              "\n",
              "        async function convertToInteractive(key) {\n",
              "          const element = document.querySelector('#df-c3b809d7-e4db-4127-a700-c4abad9bdebd');\n",
              "          const dataTable =\n",
              "            await google.colab.kernel.invokeFunction('convertToInteractive',\n",
              "                                                     [key], {});\n",
              "          if (!dataTable) return;\n",
              "\n",
              "          const docLinkHtml = 'Like what you see? Visit the ' +\n",
              "            '<a target=\"_blank\" href=https://colab.research.google.com/notebooks/data_table.ipynb>data table notebook</a>'\n",
              "            + ' to learn more about interactive tables.';\n",
              "          element.innerHTML = '';\n",
              "          dataTable['output_type'] = 'display_data';\n",
              "          await google.colab.output.renderOutput(dataTable, element);\n",
              "          const docLink = document.createElement('div');\n",
              "          docLink.innerHTML = docLinkHtml;\n",
              "          element.appendChild(docLink);\n",
              "        }\n",
              "      </script>\n",
              "    </div>\n",
              "  </div>\n",
              "  "
            ]
          },
          "metadata": {},
          "execution_count": 116
        }
      ]
    },
    {
      "cell_type": "code",
      "source": [
        "#remove data before 1990\n",
        "sp500 = sp500.loc[\"1990-01-01\":].copy()\n",
        "sp500"
      ],
      "metadata": {
        "colab": {
          "base_uri": "https://localhost:8080/",
          "height": 455
        },
        "id": "EbF1juJ4puzo",
        "outputId": "e480bb20-a1d3-459e-df72-90cea0234b42"
      },
      "execution_count": 117,
      "outputs": [
        {
          "output_type": "execute_result",
          "data": {
            "text/plain": [
              "                                  Open         High          Low        Close  \\\n",
              "Date                                                                            \n",
              "1990-01-02 00:00:00-05:00   353.399994   359.690002   351.980011   359.690002   \n",
              "1990-01-03 00:00:00-05:00   359.690002   360.589996   357.890015   358.760010   \n",
              "1990-01-04 00:00:00-05:00   358.760010   358.760010   352.890015   355.670013   \n",
              "1990-01-05 00:00:00-05:00   355.670013   355.670013   351.350006   352.200012   \n",
              "1990-01-08 00:00:00-05:00   352.200012   354.239990   350.540009   353.790009   \n",
              "...                                ...          ...          ...          ...   \n",
              "2023-01-03 00:00:00-05:00  3853.290039  3878.459961  3794.330078  3824.139893   \n",
              "2023-01-04 00:00:00-05:00  3840.360107  3873.159912  3815.770020  3852.969971   \n",
              "2023-01-05 00:00:00-05:00  3839.739990  3839.739990  3802.419922  3808.100098   \n",
              "2023-01-06 00:00:00-05:00  3823.370117  3906.189941  3809.560059  3895.080078   \n",
              "2023-01-09 00:00:00-05:00  3910.820068  3950.570068  3890.419922  3892.090088   \n",
              "\n",
              "                               Volume     Tomorrow  Target  \n",
              "Date                                                        \n",
              "1990-01-02 00:00:00-05:00   162070000   358.760010       0  \n",
              "1990-01-03 00:00:00-05:00   192330000   355.670013       0  \n",
              "1990-01-04 00:00:00-05:00   177000000   352.200012       0  \n",
              "1990-01-05 00:00:00-05:00   158530000   353.790009       1  \n",
              "1990-01-08 00:00:00-05:00   140110000   349.619995       0  \n",
              "...                               ...          ...     ...  \n",
              "2023-01-03 00:00:00-05:00  3959140000  3852.969971       1  \n",
              "2023-01-04 00:00:00-05:00  4414080000  3808.100098       0  \n",
              "2023-01-05 00:00:00-05:00  3893450000  3895.080078       1  \n",
              "2023-01-06 00:00:00-05:00  3923560000  3892.090088       0  \n",
              "2023-01-09 00:00:00-05:00  4311770000          NaN       0  \n",
              "\n",
              "[8320 rows x 7 columns]"
            ],
            "text/html": [
              "\n",
              "  <div id=\"df-23d6a672-f067-45f6-819d-a73cefd49c5d\">\n",
              "    <div class=\"colab-df-container\">\n",
              "      <div>\n",
              "<style scoped>\n",
              "    .dataframe tbody tr th:only-of-type {\n",
              "        vertical-align: middle;\n",
              "    }\n",
              "\n",
              "    .dataframe tbody tr th {\n",
              "        vertical-align: top;\n",
              "    }\n",
              "\n",
              "    .dataframe thead th {\n",
              "        text-align: right;\n",
              "    }\n",
              "</style>\n",
              "<table border=\"1\" class=\"dataframe\">\n",
              "  <thead>\n",
              "    <tr style=\"text-align: right;\">\n",
              "      <th></th>\n",
              "      <th>Open</th>\n",
              "      <th>High</th>\n",
              "      <th>Low</th>\n",
              "      <th>Close</th>\n",
              "      <th>Volume</th>\n",
              "      <th>Tomorrow</th>\n",
              "      <th>Target</th>\n",
              "    </tr>\n",
              "    <tr>\n",
              "      <th>Date</th>\n",
              "      <th></th>\n",
              "      <th></th>\n",
              "      <th></th>\n",
              "      <th></th>\n",
              "      <th></th>\n",
              "      <th></th>\n",
              "      <th></th>\n",
              "    </tr>\n",
              "  </thead>\n",
              "  <tbody>\n",
              "    <tr>\n",
              "      <th>1990-01-02 00:00:00-05:00</th>\n",
              "      <td>353.399994</td>\n",
              "      <td>359.690002</td>\n",
              "      <td>351.980011</td>\n",
              "      <td>359.690002</td>\n",
              "      <td>162070000</td>\n",
              "      <td>358.760010</td>\n",
              "      <td>0</td>\n",
              "    </tr>\n",
              "    <tr>\n",
              "      <th>1990-01-03 00:00:00-05:00</th>\n",
              "      <td>359.690002</td>\n",
              "      <td>360.589996</td>\n",
              "      <td>357.890015</td>\n",
              "      <td>358.760010</td>\n",
              "      <td>192330000</td>\n",
              "      <td>355.670013</td>\n",
              "      <td>0</td>\n",
              "    </tr>\n",
              "    <tr>\n",
              "      <th>1990-01-04 00:00:00-05:00</th>\n",
              "      <td>358.760010</td>\n",
              "      <td>358.760010</td>\n",
              "      <td>352.890015</td>\n",
              "      <td>355.670013</td>\n",
              "      <td>177000000</td>\n",
              "      <td>352.200012</td>\n",
              "      <td>0</td>\n",
              "    </tr>\n",
              "    <tr>\n",
              "      <th>1990-01-05 00:00:00-05:00</th>\n",
              "      <td>355.670013</td>\n",
              "      <td>355.670013</td>\n",
              "      <td>351.350006</td>\n",
              "      <td>352.200012</td>\n",
              "      <td>158530000</td>\n",
              "      <td>353.790009</td>\n",
              "      <td>1</td>\n",
              "    </tr>\n",
              "    <tr>\n",
              "      <th>1990-01-08 00:00:00-05:00</th>\n",
              "      <td>352.200012</td>\n",
              "      <td>354.239990</td>\n",
              "      <td>350.540009</td>\n",
              "      <td>353.790009</td>\n",
              "      <td>140110000</td>\n",
              "      <td>349.619995</td>\n",
              "      <td>0</td>\n",
              "    </tr>\n",
              "    <tr>\n",
              "      <th>...</th>\n",
              "      <td>...</td>\n",
              "      <td>...</td>\n",
              "      <td>...</td>\n",
              "      <td>...</td>\n",
              "      <td>...</td>\n",
              "      <td>...</td>\n",
              "      <td>...</td>\n",
              "    </tr>\n",
              "    <tr>\n",
              "      <th>2023-01-03 00:00:00-05:00</th>\n",
              "      <td>3853.290039</td>\n",
              "      <td>3878.459961</td>\n",
              "      <td>3794.330078</td>\n",
              "      <td>3824.139893</td>\n",
              "      <td>3959140000</td>\n",
              "      <td>3852.969971</td>\n",
              "      <td>1</td>\n",
              "    </tr>\n",
              "    <tr>\n",
              "      <th>2023-01-04 00:00:00-05:00</th>\n",
              "      <td>3840.360107</td>\n",
              "      <td>3873.159912</td>\n",
              "      <td>3815.770020</td>\n",
              "      <td>3852.969971</td>\n",
              "      <td>4414080000</td>\n",
              "      <td>3808.100098</td>\n",
              "      <td>0</td>\n",
              "    </tr>\n",
              "    <tr>\n",
              "      <th>2023-01-05 00:00:00-05:00</th>\n",
              "      <td>3839.739990</td>\n",
              "      <td>3839.739990</td>\n",
              "      <td>3802.419922</td>\n",
              "      <td>3808.100098</td>\n",
              "      <td>3893450000</td>\n",
              "      <td>3895.080078</td>\n",
              "      <td>1</td>\n",
              "    </tr>\n",
              "    <tr>\n",
              "      <th>2023-01-06 00:00:00-05:00</th>\n",
              "      <td>3823.370117</td>\n",
              "      <td>3906.189941</td>\n",
              "      <td>3809.560059</td>\n",
              "      <td>3895.080078</td>\n",
              "      <td>3923560000</td>\n",
              "      <td>3892.090088</td>\n",
              "      <td>0</td>\n",
              "    </tr>\n",
              "    <tr>\n",
              "      <th>2023-01-09 00:00:00-05:00</th>\n",
              "      <td>3910.820068</td>\n",
              "      <td>3950.570068</td>\n",
              "      <td>3890.419922</td>\n",
              "      <td>3892.090088</td>\n",
              "      <td>4311770000</td>\n",
              "      <td>NaN</td>\n",
              "      <td>0</td>\n",
              "    </tr>\n",
              "  </tbody>\n",
              "</table>\n",
              "<p>8320 rows × 7 columns</p>\n",
              "</div>\n",
              "      <button class=\"colab-df-convert\" onclick=\"convertToInteractive('df-23d6a672-f067-45f6-819d-a73cefd49c5d')\"\n",
              "              title=\"Convert this dataframe to an interactive table.\"\n",
              "              style=\"display:none;\">\n",
              "        \n",
              "  <svg xmlns=\"http://www.w3.org/2000/svg\" height=\"24px\"viewBox=\"0 0 24 24\"\n",
              "       width=\"24px\">\n",
              "    <path d=\"M0 0h24v24H0V0z\" fill=\"none\"/>\n",
              "    <path d=\"M18.56 5.44l.94 2.06.94-2.06 2.06-.94-2.06-.94-.94-2.06-.94 2.06-2.06.94zm-11 1L8.5 8.5l.94-2.06 2.06-.94-2.06-.94L8.5 2.5l-.94 2.06-2.06.94zm10 10l.94 2.06.94-2.06 2.06-.94-2.06-.94-.94-2.06-.94 2.06-2.06.94z\"/><path d=\"M17.41 7.96l-1.37-1.37c-.4-.4-.92-.59-1.43-.59-.52 0-1.04.2-1.43.59L10.3 9.45l-7.72 7.72c-.78.78-.78 2.05 0 2.83L4 21.41c.39.39.9.59 1.41.59.51 0 1.02-.2 1.41-.59l7.78-7.78 2.81-2.81c.8-.78.8-2.07 0-2.86zM5.41 20L4 18.59l7.72-7.72 1.47 1.35L5.41 20z\"/>\n",
              "  </svg>\n",
              "      </button>\n",
              "      \n",
              "  <style>\n",
              "    .colab-df-container {\n",
              "      display:flex;\n",
              "      flex-wrap:wrap;\n",
              "      gap: 12px;\n",
              "    }\n",
              "\n",
              "    .colab-df-convert {\n",
              "      background-color: #E8F0FE;\n",
              "      border: none;\n",
              "      border-radius: 50%;\n",
              "      cursor: pointer;\n",
              "      display: none;\n",
              "      fill: #1967D2;\n",
              "      height: 32px;\n",
              "      padding: 0 0 0 0;\n",
              "      width: 32px;\n",
              "    }\n",
              "\n",
              "    .colab-df-convert:hover {\n",
              "      background-color: #E2EBFA;\n",
              "      box-shadow: 0px 1px 2px rgba(60, 64, 67, 0.3), 0px 1px 3px 1px rgba(60, 64, 67, 0.15);\n",
              "      fill: #174EA6;\n",
              "    }\n",
              "\n",
              "    [theme=dark] .colab-df-convert {\n",
              "      background-color: #3B4455;\n",
              "      fill: #D2E3FC;\n",
              "    }\n",
              "\n",
              "    [theme=dark] .colab-df-convert:hover {\n",
              "      background-color: #434B5C;\n",
              "      box-shadow: 0px 1px 3px 1px rgba(0, 0, 0, 0.15);\n",
              "      filter: drop-shadow(0px 1px 2px rgba(0, 0, 0, 0.3));\n",
              "      fill: #FFFFFF;\n",
              "    }\n",
              "  </style>\n",
              "\n",
              "      <script>\n",
              "        const buttonEl =\n",
              "          document.querySelector('#df-23d6a672-f067-45f6-819d-a73cefd49c5d button.colab-df-convert');\n",
              "        buttonEl.style.display =\n",
              "          google.colab.kernel.accessAllowed ? 'block' : 'none';\n",
              "\n",
              "        async function convertToInteractive(key) {\n",
              "          const element = document.querySelector('#df-23d6a672-f067-45f6-819d-a73cefd49c5d');\n",
              "          const dataTable =\n",
              "            await google.colab.kernel.invokeFunction('convertToInteractive',\n",
              "                                                     [key], {});\n",
              "          if (!dataTable) return;\n",
              "\n",
              "          const docLinkHtml = 'Like what you see? Visit the ' +\n",
              "            '<a target=\"_blank\" href=https://colab.research.google.com/notebooks/data_table.ipynb>data table notebook</a>'\n",
              "            + ' to learn more about interactive tables.';\n",
              "          element.innerHTML = '';\n",
              "          dataTable['output_type'] = 'display_data';\n",
              "          await google.colab.output.renderOutput(dataTable, element);\n",
              "          const docLink = document.createElement('div');\n",
              "          docLink.innerHTML = docLinkHtml;\n",
              "          element.appendChild(docLink);\n",
              "        }\n",
              "      </script>\n",
              "    </div>\n",
              "  </div>\n",
              "  "
            ]
          },
          "metadata": {},
          "execution_count": 117
        }
      ]
    },
    {
      "cell_type": "code",
      "source": [
        "#train model\n",
        "from sklearn.ensemble import RandomForestClassifier\n",
        "\n",
        "model = RandomForestClassifier(n_estimators=100, min_samples_split=100, random_state=1)\n",
        "train = sp500.iloc[:-100]\n",
        "test = sp500.iloc[-100:]\n",
        "\n",
        "predictors = [\"Close\",\"Volume\",\"Open\",\"High\",\"Low\"]\n",
        "model.fit(train[predictors],train[\"Target\"])"
      ],
      "metadata": {
        "colab": {
          "base_uri": "https://localhost:8080/"
        },
        "id": "X-L5c0c1qFgw",
        "outputId": "3aa1ed25-b724-4a59-c2d1-256100e36025"
      },
      "execution_count": 118,
      "outputs": [
        {
          "output_type": "execute_result",
          "data": {
            "text/plain": [
              "RandomForestClassifier(min_samples_split=100, random_state=1)"
            ]
          },
          "metadata": {},
          "execution_count": 118
        }
      ]
    },
    {
      "cell_type": "code",
      "source": [
        "#measure how accurate model is\n",
        "#how accurate is when market(target) go up data go up too\n",
        "from sklearn.metrics import precision_score\n",
        "\n",
        "preds = model.predict(test[predictors])"
      ],
      "metadata": {
        "id": "u7lJhS5_sXny"
      },
      "execution_count": 119,
      "outputs": []
    },
    {
      "cell_type": "code",
      "source": [
        "preds = pd.Series(preds, index=test.index)"
      ],
      "metadata": {
        "id": "irmClzaxtLda"
      },
      "execution_count": 120,
      "outputs": []
    },
    {
      "cell_type": "code",
      "source": [
        "#how accurate it is\n",
        "precision_score(test[\"Target\"],preds)"
      ],
      "metadata": {
        "colab": {
          "base_uri": "https://localhost:8080/"
        },
        "id": "H5K3oZp3tim7",
        "outputId": "3c17ac82-4daf-4592-abc6-68dda67f06c9"
      },
      "execution_count": 121,
      "outputs": [
        {
          "output_type": "execute_result",
          "data": {
            "text/plain": [
              "0.3472222222222222"
            ]
          },
          "metadata": {},
          "execution_count": 121
        }
      ]
    },
    {
      "cell_type": "code",
      "source": [
        "#see how accurate in graph\n",
        "combined = pd.concat([test[\"Target\"], preds], axis=1)\n",
        "combined.plot()"
      ],
      "metadata": {
        "colab": {
          "base_uri": "https://localhost:8080/",
          "height": 302
        },
        "id": "pkB18Cyqt0-R",
        "outputId": "35cddc7d-b88e-4cd9-df18-a11aeab48c59"
      },
      "execution_count": 122,
      "outputs": [
        {
          "output_type": "execute_result",
          "data": {
            "text/plain": [
              "<matplotlib.axes._subplots.AxesSubplot at 0x7f9701bcffd0>"
            ]
          },
          "metadata": {},
          "execution_count": 122
        },
        {
          "output_type": "display_data",
          "data": {
            "text/plain": [
              "<Figure size 432x288 with 1 Axes>"
            ],
            "image/png": "[encoded data removed]"
          },
          "metadata": {}
        }
      ]
    },
    {
      "cell_type": "code",
      "source": [
        "def predict(train, test, predictors, model):\n",
        "    model.fit(train[predictors], train[\"Target\"])\n",
        "    preds = model.predict(test[predictors])\n",
        "    preds = pd.Series(preds, index=test.index, name=\"Predictions\")\n",
        "    combined = pd.concat([test[\"Target\"], preds], axis=1)\n",
        "    return combined"
      ],
      "metadata": {
        "id": "yvv8FLOtuWOb"
      },
      "execution_count": 123,
      "outputs": []
    },
    {
      "cell_type": "code",
      "source": [
        "#train first model with first 10year for 11 and so on\n",
        "def backtest(data, model, predictors, start=2500, step=250):\n",
        "    all_predictions = []\n",
        "\n",
        "    for i in range(start, data.shape[0], step):\n",
        "        train = data.iloc[0:i].copy()\n",
        "        test = data.iloc[i:(i+step)].copy()\n",
        "        predictions = predict(train, test, predictors, model)\n",
        "        all_predictions.append(predictions)\n",
        "    \n",
        "    return pd.concat(all_predictions)"
      ],
      "metadata": {
        "id": "WvoMf77xvQVM"
      },
      "execution_count": 124,
      "outputs": []
    },
    {
      "cell_type": "code",
      "source": [
        "predictions = backtest(sp500, model, predictors)"
      ],
      "metadata": {
        "id": "aXmG5-I8woXE"
      },
      "execution_count": 125,
      "outputs": []
    },
    {
      "cell_type": "code",
      "source": [
        "#see how many time model predict go up and now\n",
        "predictions[\"Predictions\"].value_counts()"
      ],
      "metadata": {
        "colab": {
          "base_uri": "https://localhost:8080/"
        },
        "id": "h4rM_OPywzHz",
        "outputId": "14f2080f-b254-4180-dcad-c70f2af71527"
      },
      "execution_count": 126,
      "outputs": [
        {
          "output_type": "execute_result",
          "data": {
            "text/plain": [
              "0    3389\n",
              "1    2431\n",
              "Name: Predictions, dtype: int64"
            ]
          },
          "metadata": {},
          "execution_count": 126
        }
      ]
    },
    {
      "cell_type": "code",
      "source": [
        "#how accurate now\n",
        "precision_score(predictions[\"Target\"], predictions[\"Predictions\"])\n"
      ],
      "metadata": {
        "colab": {
          "base_uri": "https://localhost:8080/"
        },
        "id": "iJaQ6RQlynPU",
        "outputId": "70557ec3-63af-4417-936d-0d3304d3409a"
      },
      "execution_count": 127,
      "outputs": [
        {
          "output_type": "execute_result",
          "data": {
            "text/plain": [
              "0.5277663512957631"
            ]
          },
          "metadata": {},
          "execution_count": 127
        }
      ]
    },
    {
      "cell_type": "code",
      "source": [
        "#how many % up or down\n",
        "predictions[\"Target\"].value_counts() / predictions.shape[0]"
      ],
      "metadata": {
        "colab": {
          "base_uri": "https://localhost:8080/"
        },
        "id": "cJk1ZkHoyzrU",
        "outputId": "ece66faa-7273-475d-d0e2-4ee7f52229a1"
      },
      "execution_count": 128,
      "outputs": [
        {
          "output_type": "execute_result",
          "data": {
            "text/plain": [
              "1    0.533849\n",
              "0    0.466151\n",
              "Name: Target, dtype: float64"
            ]
          },
          "metadata": {},
          "execution_count": 128
        }
      ]
    },
    {
      "cell_type": "code",
      "source": [
        "#calculate the mean close price in 2days 5 days 60 days 250 days 1000days\n",
        "#and find ratio bettween today closing price and these periods\n",
        "horizons = [2,5,60,250,1000]\n",
        "new_predictors = []\n",
        "\n",
        "for horizon in horizons:\n",
        "    rolling_averages = sp500.rolling(horizon).mean()\n",
        "\n",
        "    ratio_column = f\"Close_Ratio_{horizon}\"\n",
        "    sp500[ratio_column] = sp500[\"Close\"] / rolling_averages[\"Close\"]\n",
        "\n",
        "    trend_column = f\"Trend_{horizon}\"\n",
        "    sp500[trend_column] = sp500.shift(1).rolling(horizon).sum()[\"Target\"]\n",
        "\n",
        "    new_predictors += [ratio_column, trend_column]\n",
        "    "
      ],
      "metadata": {
        "id": "yxvOVvupzDTs"
      },
      "execution_count": 129,
      "outputs": []
    },
    {
      "cell_type": "code",
      "source": [
        "sp500"
      ],
      "metadata": {
        "id": "4r2kSiR71kVN"
      },
      "execution_count": null,
      "outputs": []
    },
    {
      "cell_type": "code",
      "source": [
        "sp500 = sp500.dropna()"
      ],
      "metadata": {
        "id": "cBRPs7FA1o6b"
      },
      "execution_count": 131,
      "outputs": []
    },
    {
      "cell_type": "code",
      "source": [
        "#new model\n",
        "model = RandomForestClassifier(n_estimators=200, min_samples_split=50, random_state=1)"
      ],
      "metadata": {
        "id": "TDUgU5Jk11cd"
      },
      "execution_count": 132,
      "outputs": []
    },
    {
      "cell_type": "code",
      "source": [
        "#return probability\n",
        "def predict(train, test, predictors, model):\n",
        "    model.fit(train[predictors], train[\"Target\"])\n",
        "    preds = model.predict_proba(test[predictors])[:,1]\n",
        "    preds[preds >= .6] = 1\n",
        "    preds[preds < .6] = 0\n",
        "    preds = pd.Series(preds, index=test.index, name=\"Predictions\")\n",
        "    combined = pd.concat([test[\"Target\"], preds], axis=1)\n",
        "    return combined"
      ],
      "metadata": {
        "id": "6tIBCgBU2Bpc"
      },
      "execution_count": 133,
      "outputs": []
    },
    {
      "cell_type": "code",
      "source": [
        "predictions = backtest(sp500, model, new_predictors)"
      ],
      "metadata": {
        "id": "wZuswsJx2dLn"
      },
      "execution_count": 134,
      "outputs": []
    },
    {
      "cell_type": "code",
      "source": [
        "predictions[\"Predictions\"].value_counts()"
      ],
      "metadata": {
        "colab": {
          "base_uri": "https://localhost:8080/"
        },
        "id": "n4zx6c2c2pw1",
        "outputId": "523aae4a-47f2-4f18-a8b4-4f35e02a378e"
      },
      "execution_count": 135,
      "outputs": [
        {
          "output_type": "execute_result",
          "data": {
            "text/plain": [
              "0.0    4006\n",
              "1.0     813\n",
              "Name: Predictions, dtype: int64"
            ]
          },
          "metadata": {},
          "execution_count": 135
        }
      ]
    },
    {
      "cell_type": "code",
      "source": [
        "#accuracy\n",
        "precision_score(predictions[\"Target\"], predictions[\"Predictions\"])"
      ],
      "metadata": {
        "colab": {
          "base_uri": "https://localhost:8080/"
        },
        "id": "cocCB-dp4NIm",
        "outputId": "c61a71be-d6e1-4b6f-98a0-8a3c2b89b1d6"
      },
      "execution_count": 136,
      "outputs": [
        {
          "output_type": "execute_result",
          "data": {
            "text/plain": [
              "0.5694956949569495"
            ]
          },
          "metadata": {},
          "execution_count": 136
        }
      ]
    },
    {
      "cell_type": "code",
      "source": [
        "#Last note it can be a lot more accurate"
      ],
      "metadata": {
        "id": "uIm37DFL4w6e"
      },
      "execution_count": 137,
      "outputs": []
    },
    {
      "cell_type": "code",
      "source": [
        "from sklearn.tree import export_graphviz\n",
        "from matplotlib.pyplot import plot\n",
        "from sklearn.ensemble import RandomForestClassifier\n",
        "from sklearn import tree\n",
        "from subprocess import call\n",
        "call(['dot', '-Tpng', 'tree.dot', '-o', 'tree.png', '-Gdpi=600'])\n",
        "import seaborn as sns; sns.set()\n",
        "import os\n",
        "from sklearn.metrics import confusion_matrix\n",
        "\n",
        "combined = pd.DataFrame(dict(actual=test[\"Target\"], predicted=preds))\n",
        "pd.crosstab(index=combined[\"actual\"], columns=combined[\"predicted\"])\n",
        "len(model.estimators_)\n",
        "model.estimators_[0].tree_.max_depth\n",
        "_ = tree.plot_tree(model.estimators_[0], feature_names=sp500.columns, filled=True)\n"
      ],
      "metadata": {
        "colab": {
          "base_uri": "https://localhost:8080/",
          "height": 248
        },
        "id": "ttznNhcFEe9J",
        "outputId": "fd6412a7-f510-4c42-f7f9-7417ea0e9b68"
      },
      "execution_count": 151,
      "outputs": [
        {
          "output_type": "display_data",
          "data": {
            "text/plain": [
              "<Figure size 432x288 with 1 Axes>"
            ],
            "image/png": "[encoded data removed]"
          },
          "metadata": {}
        }
      ]
    }
  ]
}